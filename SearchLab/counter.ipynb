{
 "cells": [
  {
   "cell_type": "markdown",
   "metadata": {},
   "source": [
    "**Lab Outline**\n",
    "\n",
    "1.  Review search framework to see what components it requires\n",
    "\n",
    "1.  Do \"counter\" -- easiest possible search implementation\n",
    "1.  Together do \"missionaries and cannibals\" -- also pretty easy\n",
    "1.  You do \"map coloring\" -- also easy, different from M&C\n",
    "\n"
   ]
  },
  {
   "cell_type": "markdown",
   "metadata": {},
   "source": [
    "**Counter**\n",
    "\n",
    "You can add increment or decrement the counter, but you can't decrement past 0.\n",
    "Inputs are an initial value and a goal final value.\n"
   ]
  },
  {
   "cell_type": "code",
   "execution_count": null,
   "metadata": {},
   "outputs": [],
   "source": [
    "from searchClientInterface import WorldState\n",
    "import copy\n",
    "\n",
    "class CounterWorldState(WorldState):\n",
    "\n",
    "    def __init__(self, initial):\n",
    "        self._value = initial\n",
    "        \n",
    "    def __str__(self):\n",
    "        return \"{\" + str(self._value) + \"}\"\n",
    "    \n",
    "    def __eq__(self, other):\n",
    "        if isinstance(other, CounterWorldState):\n",
    "            return self._value == other._value\n",
    "        else:\n",
    "            return False\n",
    "\n",
    "    def __hash__(self):\n",
    "        return hash(str(self._value))\n",
    "    \n",
    "    # NB: every successor state must deep copy the old state!\n",
    "    \n",
    "    def successors(self):\n",
    "        candidates = (self.increment(), self.decrement())\n",
    "        return [c for c in candidates if c] \n",
    "    \n",
    "    def decrement(self):\n",
    "        if self._value > 0:\n",
    "            s = copy.deepcopy(self)\n",
    "            s._value = s._value - 1\n",
    "            return((s, \"decrement\"))\n",
    "        else:\n",
    "            return None\n",
    "                   \n",
    "    def increment(self):\n",
    "        s = copy.deepcopy(self)\n",
    "        s._value = s._value + 1\n",
    "        return((s, \"increment\"))\n",
    "    "
   ]
  },
  {
   "cell_type": "code",
   "execution_count": 2,
   "metadata": {},
   "outputs": [],
   "source": [
    "from searchClientInterface import Problem\n",
    "class CounterProblem(Problem):\n",
    "    def __init__(self, initial_value, goal_value):\n",
    "        self._state = CounterWorldState(initial_value)\n",
    "        self._goal_value = goal_value\n",
    "        \n",
    "    def initial(self):\n",
    "        return self._state\n",
    "    \n",
    "    def isGoal(self, state):\n",
    "        return state._value == self._goal_value"
   ]
  },
  {
   "cell_type": "code",
   "execution_count": 3,
   "metadata": {},
   "outputs": [],
   "source": [
    "from searchClientInterface import Evaluator\n",
    "def bfsEstimator(state):\n",
    "    return 0\n",
    "\n",
    "def bfsCoster(actions):\n",
    "    return len(actions)\n",
    "\n",
    "def bfsEvaluator():\n",
    "    return Evaluator(bfsCoster, bfsEstimator)"
   ]
  },
  {
   "cell_type": "code",
   "execution_count": 4,
   "metadata": {},
   "outputs": [],
   "source": [
    "def dfsEstimator(state):\n",
    "    return 0\n",
    "\n",
    "def dfsCoster(actions):\n",
    "    return -len(actions)\n",
    "\n",
    "def dfsEvaluator():\n",
    "    return Evaluator(dfsCoster, dfsGuesser)"
   ]
  },
  {
   "cell_type": "code",
   "execution_count": 5,
   "metadata": {},
   "outputs": [],
   "source": [
    "problem1 = CounterProblem(3, 6)"
   ]
  },
  {
   "cell_type": "code",
   "execution_count": 7,
   "metadata": {},
   "outputs": [
    {
     "name": "stdout",
     "output_type": "stream",
     "text": [
      "(['increment', 'increment', 'increment'], (0.0, 4, 0, 4))\n"
     ]
    }
   ],
   "source": [
    "from searchFramework import aStarSearch\n",
    "print(aStarSearch(problem1, dfsEvaluator()))"
   ]
  },
  {
   "cell_type": "code",
   "execution_count": 8,
   "metadata": {},
   "outputs": [
    {
     "name": "stdout",
     "output_type": "stream",
     "text": [
      "Visited 250 world is {256}\n",
      "Skipped 0 Fringe is size 249\n",
      "Evaluation is -249 with actions 249\n",
      "Visited 500 world is {506}\n",
      "Skipped 0 Fringe is size 499\n",
      "Evaluation is -499 with actions 499\n",
      "Visited 750 world is {756}\n",
      "Skipped 0 Fringe is size 749\n",
      "Evaluation is -749 with actions 749\n",
      "Visited 1000 world is {1006}\n",
      "Skipped 0 Fringe is size 999\n",
      "Evaluation is -999 with actions 999\n",
      "(None, (0.109375, 1001, 0, 1001))\n"
     ]
    }
   ],
   "source": [
    "print(aStarSearch(CounterProblem(7, 2), dfsEvaluator(), 250, 1000))"
   ]
  }
 ],
 "metadata": {
  "kernelspec": {
   "display_name": "Python 3",
   "language": "python",
   "name": "python3"
  },
  "language_info": {
   "codemirror_mode": {
    "name": "ipython",
    "version": 3
   },
   "file_extension": ".py",
   "mimetype": "text/x-python",
   "name": "python",
   "nbconvert_exporter": "python",
   "pygments_lexer": "ipython3",
   "version": "3.7.0"
  }
 },
 "nbformat": 4,
 "nbformat_minor": 2
}
