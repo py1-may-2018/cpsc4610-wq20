{
 "cells": [
  {
   "cell_type": "markdown",
   "metadata": {},
   "source": [
    "Missionaries and Cannibals\n",
    "\n",
    "* There are N missionaries and M cannibals on the left bank of a river, and N => M\n",
    "* There is a boat on the left bank of the river\n",
    "* The goal is to move all missionaries and all cannibals to the right bank\n",
    "* The boat can only move if there is at least one person in it\n",
    "* The boat can hold at most two people\n",
    "* The number of missionaries must never be less than the number of cannibals on either the left or right bank\n"
   ]
  },
  {
   "cell_type": "code",
   "execution_count": 1,
   "metadata": {},
   "outputs": [],
   "source": [
    "from searchFramework import aStarSearch\n",
    "from searchClientInterface import WorldState\n",
    "import copy\n",
    "\n",
    "class MCWorldState(WorldState):\n",
    "\n",
    "    def __init__(self, ml, cl):\n",
    "        self._state = {\"ml\": ml, \"cl\": cl, \"mr\": 0, \"cr\": 0, \"mb\": 0, \"cb\": 0, \"bp\": \"l\"}\n",
    "    \n",
    "    def val(self, elt):\n",
    "        return self._state[elt]\n",
    "    \n",
    "    def increment(self, elt):\n",
    "        self._state[elt] += 1\n",
    "    \n",
    "    def decrement(self, elt):\n",
    "        self._state[elt] -=1\n",
    "    \n",
    "    def __str__(self):\n",
    "        return \"{\" + str(self._state) + \"}\"\n",
    "    \n",
    "    def __eq__(self, other):\n",
    "        if isinstance(other, MCWorldState):\n",
    "            return self._state == other._state\n",
    "        else:\n",
    "            return False\n",
    "\n",
    "    def __hash__(self):\n",
    "        return hash(str(self._state))\n",
    "    \n",
    "    def successors(self):\n",
    "        candidates = (self.em(), self.ec(), self.dm(), self.dc(), self.mb())\n",
    "        return [c for c in candidates if c] \n",
    "    \n",
    "    def em(self):\n",
    "        if self.val(\"bp\") == \"l\":\n",
    "            if self.val(\"ml\") > 0 and self.val(\"ml\") > self.val(\"cl\") and self.val(\"mb\") + self.val(\"cb\") < 2:\n",
    "                s = copy.deepcopy(self)\n",
    "                s.decrement(\"ml\")\n",
    "                s.increment(\"mb\")\n",
    "                return (s, \"em\")\n",
    "        elif self.val(\"bp\") == 'r':\n",
    "            if self.val(\"mr\") > 0 and self.val(\"mr\") > self.val(\"cr\") and self.val(\"mb\") + self.val(\"cb\") < 2:\n",
    "                s = copy.deepcopy(self)\n",
    "                s.decrement(\"mr\")\n",
    "                s.increment(\"mb\")\n",
    "                return (s, \"em\")\n",
    "        else:\n",
    "            raise Exception(f\"Invalid boat state {self.val('bp')}\")\n",
    "        return None\n",
    "    \n",
    "    def ec(self):\n",
    "        if self.val(\"bp\") == \"l\":\n",
    "            if self.val(\"cl\") > 0 and self.val(\"mb\") + self.val(\"cb\") < 2:\n",
    "                s = copy.deepcopy(self)\n",
    "                s.decrement(\"cl\")\n",
    "                s.increment(\"cb\")\n",
    "                return (s, \"ec\")\n",
    "        elif self.val(\"bp\") == \"r\":\n",
    "            if self.val(\"cr\") > 0 and self.val(\"mb\") + self.val(\"cb\") < 2:\n",
    "                s = copy.deepcopy(self)\n",
    "                s.decrement(\"cr\")\n",
    "                s.increment(\"cb\")\n",
    "                return (s, \"ec\")\n",
    "        else:\n",
    "            raise Exception(f\"Invalid boat state {self.val('bp')}\")\n",
    "        return None\n",
    "            \n",
    "    def dm(self):\n",
    "        if self.val(\"bp\") == \"l\":\n",
    "            if self.val(\"mb\") > 0:\n",
    "                s = copy.deepcopy(self)\n",
    "                s.decrement(\"mb\")\n",
    "                s.increment(\"ml\")\n",
    "                return (s, \"dm\")\n",
    "        elif self.val(\"bp\") == \"r\":\n",
    "                if self.val(\"mb\") > 0 :\n",
    "                    s = copy.deepcopy(self)\n",
    "                    s.decrement(\"mb\")\n",
    "                    s.increment(\"mr\")\n",
    "                    return (s, \"dm\")\n",
    "        else:\n",
    "            raise Exception(f\"Invalid boat state {self.val('bp')}\")\n",
    "        return None\n",
    "    \n",
    "    def dc(self):\n",
    "        if self.val(\"bp\") == \"l\":\n",
    "            if self.val(\"cb\") > 0 and self.val(\"ml\") > self.val(\"cl\"):\n",
    "                s = copy.deepcopy(self)\n",
    "                s.decrement(\"cb\")\n",
    "                s.increment(\"cl\")\n",
    "                return (s, \"dc\")\n",
    "        elif self.val(\"bp\") == \"r\":\n",
    "            if self.val(\"cb\") > 0 and self.val(\"mr\") > self.val(\"cr\"):\n",
    "                s = copy.deepcopy(self)\n",
    "                s.decrement(\"cb\")\n",
    "                s.increment(\"cr\")\n",
    "                return (s, \"dc\")\n",
    "        else:\n",
    "            raise Exception(f\"Invalid boat state {self.val('bp')}\") \n",
    "        return None\n",
    "            \n",
    "    def mb(self):\n",
    "        if self.val(\"mb\") + self.val(\"cb\") > 0:\n",
    "            s = copy.deepcopy(self)\n",
    "            s._state[\"bp\"]  = 'l' if s._state['bp'] == 'r' else 'r'\n",
    "            return (s, \"mb\")\n",
    "        return None"
   ]
  },
  {
   "cell_type": "code",
   "execution_count": 2,
   "metadata": {},
   "outputs": [],
   "source": [
    "from searchClientInterface import Problem\n",
    "\n",
    "class MCProblem(Problem):\n",
    "    def __init__(self, ml, cl):\n",
    "        self._state = MCWorldState(ml, cl)\n",
    " \n",
    "    def initial(self):\n",
    "        return self._state\n",
    "    \n",
    "    def isGoal(self, state):\n",
    "        return state.val('ml') + state.val('cl') + state.val('mb') + state.val('cb') == 0"
   ]
  },
  {
   "cell_type": "code",
   "execution_count": 3,
   "metadata": {},
   "outputs": [],
   "source": [
    "from searchClientInterface import Evaluator\n",
    "def bfsGuesser(state):\n",
    "    return 0\n",
    "\n",
    "def bfsCoster(actions):\n",
    "    return len(actions)\n",
    "\n",
    "def bfsEvaluator():\n",
    "    return Evaluator(bfsCoster, bfsGuesser)"
   ]
  },
  {
   "cell_type": "code",
   "execution_count": 4,
   "metadata": {},
   "outputs": [],
   "source": [
    "def dfsGuesser(state):\n",
    "    return 0\n",
    "\n",
    "def dfsCoster(actions):\n",
    "    return -len(actions)\n",
    "\n",
    "def dfsEvaluator():\n",
    "    return Evaluator(dfsCoster, dfsGuesser)"
   ]
  },
  {
   "cell_type": "code",
   "execution_count": 5,
   "metadata": {},
   "outputs": [],
   "source": [
    "from searchFramework import aStarSearch"
   ]
  },
  {
   "cell_type": "code",
   "execution_count": 6,
   "metadata": {},
   "outputs": [
    {
     "name": "stdout",
     "output_type": "stream",
     "text": [
      "(['ec', 'em', 'mb', 'dm', 'dc'], (0.0, 12, 5, 4))\n"
     ]
    }
   ],
   "source": [
    "print(aStarSearch(MCProblem(1,1), bfsEvaluator()))"
   ]
  },
  {
   "cell_type": "code",
   "execution_count": 7,
   "metadata": {},
   "outputs": [
    {
     "name": "stdout",
     "output_type": "stream",
     "text": [
      "(['ec', 'em', 'mb', 'dm', 'mb', 'ec', 'mb', 'dc', 'mb', 'em', 'mb', 'dm', 'mb', 'ec', 'mb', 'dc', 'mb', 'em', 'mb', 'dm', 'dc'], (0.0, 65, 31, 6))\n"
     ]
    }
   ],
   "source": [
    "print(aStarSearch(MCProblem(3,3), bfsEvaluator()))"
   ]
  },
  {
   "cell_type": "code",
   "execution_count": 8,
   "metadata": {},
   "outputs": [
    {
     "name": "stdout",
     "output_type": "stream",
     "text": [
      "(40.359375, 279981, 139989, 6)\n"
     ]
    }
   ],
   "source": [
    "soln, stats = aStarSearch(MCProblem(10000, 10000), bfsEvaluator())\n",
    "print(stats)"
   ]
  },
  {
   "cell_type": "code",
   "execution_count": 9,
   "metadata": {},
   "outputs": [
    {
     "name": "stdout",
     "output_type": "stream",
     "text": [
      "(105.09375, 50001, 19443, 16670)\n"
     ]
    }
   ],
   "source": [
    "soln, stats = aStarSearch(MCProblem(10000, 10000), dfsEvaluator(), None, 50000)\n",
    "print(stats)"
   ]
  },
  {
   "cell_type": "code",
   "execution_count": 11,
   "metadata": {},
   "outputs": [],
   "source": [
    "def mcGuesser(state):\n",
    "    return state.val('ml') * 3 + state.val('cl') * 3 + state.val('mb') + state.val('cb')\n",
    "def mcEvaluator():\n",
    "    return Evaluator(lambda actions: len(actions), mcGuesser)"
   ]
  },
  {
   "cell_type": "code",
   "execution_count": 13,
   "metadata": {},
   "outputs": [
    {
     "name": "stdout",
     "output_type": "stream",
     "text": [
      "(35.953125, 279968, 139980, 14)\n"
     ]
    }
   ],
   "source": [
    "soln, stats = aStarSearch(MCProblem(10000, 10000), mcEvaluator())\n",
    "print(stats)"
   ]
  },
  {
   "cell_type": "code",
   "execution_count": null,
   "metadata": {},
   "outputs": [],
   "source": []
  }
 ],
 "metadata": {
  "kernelspec": {
   "display_name": "Python 3",
   "language": "python",
   "name": "python3"
  },
  "language_info": {
   "codemirror_mode": {
    "name": "ipython",
    "version": 3
   },
   "file_extension": ".py",
   "mimetype": "text/x-python",
   "name": "python",
   "nbconvert_exporter": "python",
   "pygments_lexer": "ipython3",
   "version": "3.7.0"
  }
 },
 "nbformat": 4,
 "nbformat_minor": 2
}
