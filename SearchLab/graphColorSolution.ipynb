{
 "cells": [
  {
   "cell_type": "code",
   "execution_count": 12,
   "metadata": {},
   "outputs": [],
   "source": [
    "from searchFramework import aStarSearch\n",
    "from searchClientInterface import WorldState\n",
    "import copy\n",
    "\n",
    "class GCWorldState(WorldState):\n",
    "\n",
    "    def __init__(self, locations, colors, adjacencies):\n",
    "        self._locations = locations\n",
    "        self._colors = colors\n",
    "        self._adjacencies = adjacencies\n",
    "        self._assignments = {}\n",
    "        \n",
    "    def __str__(self):\n",
    "        return \"{\" + str(self._assignments) + \"}\"\n",
    "    \n",
    "    def __eq__(self, other):\n",
    "        if isinstance(other, GCWorldState):\n",
    "            return self._assignments == other._assignments\n",
    "        else:\n",
    "            return False\n",
    "\n",
    "    def __hash__(self):\n",
    "        return hash(str(self._assignments))\n",
    "    \n",
    "    def successors(self):\n",
    "        loc = self.choose_unassigned_location()\n",
    "        if (loc == None):\n",
    "            return []\n",
    "        else:\n",
    "            return [self.assign(loc, c) for c in self._colors]\n",
    "    \n",
    "    def choose_unassigned_location(self):\n",
    "        for l in self._locations:\n",
    "            if not (l in self._assignments):\n",
    "                return l\n",
    "        return None\n",
    "    \n",
    "    def assign(self, loc, color):\n",
    "        s = copy.deepcopy(self)\n",
    "        s._assignments[loc] = color\n",
    "        return (s, (loc, color))\n",
    "    \n",
    "    def isGoal(self):\n",
    "        return self.isComplete() and self.isFeasible()\n",
    "    \n",
    "    def isComplete(self):\n",
    "        return set(self._locations) == set(self._assignments.keys())\n",
    "        \n",
    "    def isFeasible(self):\n",
    "        for adj in self._adjacencies:\n",
    "            l1, l2 = adj\n",
    "            if l1 in self._assignments and l2 in self._assignments and self._assignments[l1] == self._assignments[l2]:\n",
    "                return False\n",
    "        return True"
   ]
  },
  {
   "cell_type": "code",
   "execution_count": 3,
   "metadata": {},
   "outputs": [],
   "source": [
    "from searchClientInterface import Problem\n",
    "\n",
    "class GCProblem(Problem):\n",
    "    def __init__(self, locations, colors, adjacencies):\n",
    "        self._state = GCWorldState(locations, colors, adjacencies)\n",
    " \n",
    "    def initial(self):\n",
    "        return self._state\n",
    "    \n",
    "    def isGoal(self, state):\n",
    "        return state.isGoal()"
   ]
  },
  {
   "cell_type": "code",
   "execution_count": 8,
   "metadata": {},
   "outputs": [],
   "source": [
    "from searchClientInterface import Evaluator\n",
    "def dfsEstimator(state):\n",
    "    return 0\n",
    "\n",
    "def dfsCoster(actions):\n",
    "    return -len(actions)\n",
    "\n",
    "def dfsEvaluator():\n",
    "    return Evaluator(dfsCoster, dfsEstimator)"
   ]
  },
  {
   "cell_type": "code",
   "execution_count": 9,
   "metadata": {},
   "outputs": [],
   "source": [
    "from searchFramework import aStarSearch"
   ]
  },
  {
   "cell_type": "code",
   "execution_count": 10,
   "metadata": {},
   "outputs": [],
   "source": [
    "#  Here is the example from Russel and Norvig, Figure 6.1\n",
    "locations = ['WA', 'NT', 'Q', 'SA', 'NSW', 'V', 'T']\n",
    "colors = [\"red\", \"green\", \"blue\"]\n",
    "adjacencies = [('WA', 'NT'), ('WA', 'SA'), ('NT', 'SA'), ('NT', 'Q'), \n",
    "               ('SA', 'Q'), ('Q', 'NSW'), ('SA', 'NSW'), ('SA', 'V'),\n",
    "               ('NSW', 'V')]\n",
    "\n",
    "\n",
    "def mapColor(locations, colors, adjacencies):\n",
    "    soln, stats = aStarSearch(GCProblem(locations, colors, adjacencies), dfsEvaluator(), None, 50000)\n",
    "    return soln\n"
   ]
  },
  {
   "cell_type": "code",
   "execution_count": 13,
   "metadata": {},
   "outputs": [
    {
     "data": {
      "text/plain": [
       "[('WA', 'red'),\n",
       " ('NT', 'green'),\n",
       " ('Q', 'red'),\n",
       " ('SA', 'blue'),\n",
       " ('NSW', 'green'),\n",
       " ('V', 'red'),\n",
       " ('T', 'red')]"
      ]
     },
     "execution_count": 13,
     "metadata": {},
     "output_type": "execute_result"
    }
   ],
   "source": [
    "mapColor(locations, colors, adjacencies)"
   ]
  },
  {
   "cell_type": "code",
   "execution_count": null,
   "metadata": {},
   "outputs": [],
   "source": []
  }
 ],
 "metadata": {
  "kernelspec": {
   "display_name": "Python 3",
   "language": "python",
   "name": "python3"
  },
  "language_info": {
   "codemirror_mode": {
    "name": "ipython",
    "version": 3
   },
   "file_extension": ".py",
   "mimetype": "text/x-python",
   "name": "python",
   "nbconvert_exporter": "python",
   "pygments_lexer": "ipython3",
   "version": "3.7.0"
  }
 },
 "nbformat": 4,
 "nbformat_minor": 2
}
