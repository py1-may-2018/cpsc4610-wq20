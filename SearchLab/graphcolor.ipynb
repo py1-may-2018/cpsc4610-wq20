{
 "cells": [
  {
   "cell_type": "markdown",
   "metadata": {},
   "source": [
    "##### Graph Coloring\n",
    "\n",
    "* There a N locations, each with a name\n",
    "* There are k colors\n",
    "* There is a set of adjacency relationships between the locations\n",
    "* The goal is to assign a color to each locations such that no two adjacent locations have the same color\n"
   ]
  },
  {
   "cell_type": "code",
   "execution_count": null,
   "metadata": {},
   "outputs": [],
   "source": [
    "#  Here is the example from Russel and Norvig, Figure 6.1\n",
    "locations = ['WA', 'NT', 'Q', 'SA', 'NSW', 'V', 'T']\n",
    "colors = [\"red\", \"green\", \"blue\"]\n",
    "adjacencies = [('WA', 'NT'), ('WA', 'SA'), ('NT', 'SA'), ('NT', 'Q'), \n",
    "               ('SA', 'Q'), ('Q', 'NSW'), ('SA', 'NSW'), ('SA', 'V'),\n",
    "               ('NSW', 'V')]"
   ]
  },
  {
   "cell_type": "code",
   "execution_count": 1,
   "metadata": {},
   "outputs": [],
   "source": [
    "#  Use the search framework to write a function \n",
    "#    mapColor(locations, colors, adjacencies)\n",
    "#  that returns a dictionary mapping a location to a color if such a mapping exists, and None otherwise\n"
   ]
  }
 ],
 "metadata": {
  "kernelspec": {
   "display_name": "Python 3",
   "language": "python",
   "name": "python3"
  },
  "language_info": {
   "codemirror_mode": {
    "name": "ipython",
    "version": 3
   },
   "file_extension": ".py",
   "mimetype": "text/x-python",
   "name": "python",
   "nbconvert_exporter": "python",
   "pygments_lexer": "ipython3",
   "version": "3.7.0"
  }
 },
 "nbformat": 4,
 "nbformat_minor": 2
}
