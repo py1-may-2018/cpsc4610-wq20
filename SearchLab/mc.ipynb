{
 "cells": [
  {
   "cell_type": "markdown",
   "metadata": {},
   "source": [
    "##### Missionaries and Cannibals\n",
    "\n",
    "* There are N missionaries and M cannibals on the left bank of a river, and N => M\n",
    "* There is a boat on the left bank of the river\n",
    "* The goal is to move all missionaries and all cannibals to the right bank\n",
    "* The boat can only move if there is at least one person in it\n",
    "* The boat can hold at most two people\n",
    "* The number of missionaries must never be less than the number of cannibals on either the left or right bank\n"
   ]
  },
  {
   "cell_type": "code",
   "execution_count": null,
   "metadata": {},
   "outputs": [],
   "source": [
    "from searchFramework import aStarSearch\n",
    "from searchClientInterface import WorldState\n",
    "import copy\n",
    "\n",
    "class MCWorldState(WorldState):\n"
   ]
  },
  {
   "cell_type": "code",
   "execution_count": null,
   "metadata": {},
   "outputs": [],
   "source": [
    "from searchClientInterface import Problem\n",
    "\n",
    "class MCProblem(Problem):\n"
   ]
  },
  {
   "cell_type": "code",
   "execution_count": null,
   "metadata": {},
   "outputs": [],
   "source": [
    "from searchClientInterface import Evaluator\n",
    "def bfsEstimator(state):\n",
    "    return 0\n",
    "\n",
    "def bfsCoster(actions):\n",
    "    return len(actions)\n",
    "\n",
    "def bfsEvaluator():\n",
    "    return Evaluator(bfsCoster, bfsGuesser)"
   ]
  },
  {
   "cell_type": "code",
   "execution_count": null,
   "metadata": {},
   "outputs": [],
   "source": [
    "def dfsEstimator(state):\n",
    "    return 0\n",
    "\n",
    "def dfsCoster(actions):\n",
    "    return -len(actions)\n",
    "\n",
    "def dfsEvaluator():\n",
    "    return Evaluator(dfsCoster, dfsEstimator)"
   ]
  },
  {
   "cell_type": "code",
   "execution_count": null,
   "metadata": {},
   "outputs": [],
   "source": [
    "from searchFramework import aStarSearch\n",
    "print(aStarSearch(MCProblem(1,1), bfsEvaluator()))"
   ]
  },
  {
   "cell_type": "code",
   "execution_count": null,
   "metadata": {},
   "outputs": [],
   "source": [
    "print(aStarSearch(MCProblem(3,3), bfsEvaluator()))"
   ]
  },
  {
   "cell_type": "code",
   "execution_count": null,
   "metadata": {},
   "outputs": [],
   "source": [
    "soln, stats = aStarSearch(MCProblem(10000, 10000), bfsEvaluator())\n",
    "print(stats)"
   ]
  },
  {
   "cell_type": "code",
   "execution_count": null,
   "metadata": {},
   "outputs": [],
   "source": [
    "soln, stats = aStarSearch(MCProblem(10000, 10000), dfsEvaluator(), None, 50000)\n",
    "print(stats)"
   ]
  },
  {
   "cell_type": "code",
   "execution_count": null,
   "metadata": {},
   "outputs": [],
   "source": [
    "#  Heuristic estimator for A* search\n",
    "\n",
    "def heuristicEstimator(state):\n",
    "    raise Exception(\"Not implemented\")\n",
    "\n",
    "def heuristicEvaluator():\n",
    "    return Evaluator(lambda actions: len(actions), heuristicEstimator)"
   ]
  },
  {
   "cell_type": "code",
   "execution_count": null,
   "metadata": {},
   "outputs": [],
   "source": [
    "soln, stats = aStarSearch(MCProblem(10000, 10000), mcEvaluator())\n",
    "print(stats)"
   ]
  }
 ],
 "metadata": {
  "kernelspec": {
   "display_name": "Python 3",
   "language": "python",
   "name": "python3"
  },
  "language_info": {
   "codemirror_mode": {
    "name": "ipython",
    "version": 3
   },
   "file_extension": ".py",
   "mimetype": "text/x-python",
   "name": "python",
   "nbconvert_exporter": "python",
   "pygments_lexer": "ipython3",
   "version": "3.7.0"
  }
 },
 "nbformat": 4,
 "nbformat_minor": 2
}
