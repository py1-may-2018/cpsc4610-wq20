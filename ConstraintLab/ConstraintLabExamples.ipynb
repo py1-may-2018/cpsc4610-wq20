{
 "cells": [
  {
   "cell_type": "code",
   "execution_count": null,
   "metadata": {},
   "outputs": [],
   "source": [
    "from constraint import *\n",
    "\n",
    "\n",
    "def graph_coloring(locations, colors, adjacencies):\n",
    "    \"\"\"\n",
    "    Solution for graph coloring problem using Constraint Satisfaction.\n",
    "    \n",
    "    Args:\n",
    "        locations: list of locations as strings\n",
    "        colors: list of colors as strings\n",
    "        adjacencies: list of adjacencies as tuples of two strings\n",
    "        \n",
    "    Returns Number of solutions for the specified arguments\n",
    "    \"\"\"\n",
    "    # define the problem\n",
    "    problem = Problem() \n",
    "    \n",
    "    # add locations \n",
    "    for location in locations:\n",
    "        problem.addVariable(location, colors)\n",
    "\n",
    "    for location in locations:\n",
    "        for adj in adjacencies:\n",
    "            if location == adj[0]:\n",
    "                problem.addConstraint(lambda a, b: a != b, (location, adj[1]))\n",
    "\n",
    "    solutions = problem.getSolutions()\n",
    "    return len(solutions)"
   ]
  },
  {
   "cell_type": "markdown",
   "metadata": {},
   "source": [
    "=================================================="
   ]
  },
  {
   "cell_type": "code",
   "execution_count": 8,
   "metadata": {},
   "outputs": [
    {
     "ename": "NameError",
     "evalue": "name 'ExactSumConstrnumcolors' is not defined",
     "output_type": "error",
     "traceback": [
      "\u001b[1;31m---------------------------------------------------------------------------\u001b[0m",
      "\u001b[1;31mNameError\u001b[0m                                 Traceback (most recent call last)",
      "\u001b[1;32m<ipython-input-8-38c94fd73f49>\u001b[0m in \u001b[0;36m<module>\u001b[1;34m()\u001b[0m\n\u001b[0;32m     27\u001b[0m \u001b[1;33m\u001b[0m\u001b[0m\n\u001b[0;32m     28\u001b[0m \u001b[1;32mif\u001b[0m \u001b[0m__name__\u001b[0m \u001b[1;33m==\u001b[0m \u001b[1;34m\"__main__\"\u001b[0m\u001b[1;33m:\u001b[0m\u001b[1;33m\u001b[0m\u001b[0m\n\u001b[1;32m---> 29\u001b[1;33m     \u001b[0mmain\u001b[0m\u001b[1;33m(\u001b[0m\u001b[1;33m)\u001b[0m\u001b[1;33m\u001b[0m\u001b[0m\n\u001b[0m",
      "\u001b[1;32m<ipython-input-8-38c94fd73f49>\u001b[0m in \u001b[0;36mmain\u001b[1;34m()\u001b[0m\n\u001b[0;32m     15\u001b[0m \u001b[1;33m\u001b[0m\u001b[0m\n\u001b[0;32m     16\u001b[0m \u001b[1;32mdef\u001b[0m \u001b[0mmain\u001b[0m\u001b[1;33m(\u001b[0m\u001b[1;33m)\u001b[0m\u001b[1;33m:\u001b[0m\u001b[1;33m\u001b[0m\u001b[0m\n\u001b[1;32m---> 17\u001b[1;33m     \u001b[0msolutions\u001b[0m \u001b[1;33m=\u001b[0m \u001b[0msolve\u001b[0m\u001b[1;33m(\u001b[0m\u001b[1;36m2\u001b[0m\u001b[1;33m)\u001b[0m\u001b[1;33m\u001b[0m\u001b[0m\n\u001b[0m\u001b[0;32m     18\u001b[0m     \u001b[1;32mfor\u001b[0m \u001b[0mi\u001b[0m\u001b[1;33m,\u001b[0m \u001b[0msolution\u001b[0m \u001b[1;32min\u001b[0m \u001b[0menumerate\u001b[0m\u001b[1;33m(\u001b[0m\u001b[0msolutions\u001b[0m\u001b[1;33m)\u001b[0m\u001b[1;33m:\u001b[0m\u001b[1;33m\u001b[0m\u001b[0m\n\u001b[0;32m     19\u001b[0m         \u001b[0mprint\u001b[0m\u001b[1;33m(\u001b[0m\u001b[0msolution\u001b[0m\u001b[1;33m)\u001b[0m\u001b[1;33m\u001b[0m\u001b[0m\n",
      "\u001b[1;32m<ipython-input-8-38c94fd73f49>\u001b[0m in \u001b[0;36msolve\u001b[1;34m(numColors)\u001b[0m\n\u001b[0;32m     10\u001b[0m     \u001b[1;32mfor\u001b[0m \u001b[0mx\u001b[0m\u001b[1;33m,\u001b[0m \u001b[0my\u001b[0m \u001b[1;32min\u001b[0m \u001b[0madjacencies\u001b[0m\u001b[1;33m:\u001b[0m\u001b[1;33m\u001b[0m\u001b[0m\n\u001b[0;32m     11\u001b[0m         \u001b[0mproblem\u001b[0m\u001b[1;33m.\u001b[0m\u001b[0maddConstraint\u001b[0m\u001b[1;33m(\u001b[0m\u001b[1;32mlambda\u001b[0m \u001b[0mx\u001b[0m\u001b[1;33m,\u001b[0m \u001b[0my\u001b[0m\u001b[1;33m:\u001b[0m \u001b[0mx\u001b[0m\u001b[1;33m[\u001b[0m\u001b[1;36m0\u001b[0m\u001b[1;33m]\u001b[0m\u001b[1;33m!=\u001b[0m\u001b[0my\u001b[0m\u001b[1;33m[\u001b[0m\u001b[1;36m0\u001b[0m\u001b[1;33m]\u001b[0m\u001b[1;33m,\u001b[0m \u001b[1;33m(\u001b[0m\u001b[0mx\u001b[0m\u001b[1;33m,\u001b[0m \u001b[0my\u001b[0m\u001b[1;33m)\u001b[0m\u001b[1;33m)\u001b[0m\u001b[1;33m\u001b[0m\u001b[0m\n\u001b[1;32m---> 12\u001b[1;33m     \u001b[0mproblem\u001b[0m\u001b[1;33m.\u001b[0m\u001b[0maddConstraint\u001b[0m\u001b[1;33m(\u001b[0m\u001b[0mExactSumConstrnumcolors\u001b[0m\u001b[1;33m)\u001b[0m\u001b[1;33m\u001b[0m\u001b[0m\n\u001b[0m\u001b[0;32m     13\u001b[0m     \u001b[0msolutions\u001b[0m \u001b[1;33m=\u001b[0m \u001b[0mproblem\u001b[0m\u001b[1;33m.\u001b[0m\u001b[0mgetSolutionIter\u001b[0m\u001b[1;33m(\u001b[0m\u001b[1;33m)\u001b[0m\u001b[1;33m\u001b[0m\u001b[0m\n\u001b[0;32m     14\u001b[0m     \u001b[1;32mreturn\u001b[0m \u001b[0msolutions\u001b[0m\u001b[1;33m\u001b[0m\u001b[0m\n",
      "\u001b[1;31mNameError\u001b[0m: name 'ExactSumConstrnumcolors' is not defined"
     ]
    }
   ],
   "source": [
    "from constraint import Problem\n",
    "import sys\n",
    "\n",
    "def solve(numColors):\n",
    "    problem = Problem()\n",
    "    values = (\"B\",\"G\",\"R\",\"Y\")\n",
    "    locations = ['WA', 'NT', 'Q', 'SA', 'NSW', 'V', 'T']\n",
    "    adjacencies = [('WA', 'NT'), ('WA', 'SA'), ('NT', 'SA'), ('NT', 'Q'), ('SA', 'Q'), ('Q', 'NSW'), ('SA', 'NSW'), ('SA', 'V'),('NSW', 'V')]\n",
    "    problem.addVariables(locations, values)\n",
    "    for x, y in adjacencies:\n",
    "        problem.addConstraint(lambda x, y: x[0]!=y[0], (x, y))\n",
    "    problem.addConstraint(ExactSumConstrnumcolors)\n",
    "    solutions = problem.getSolutionIter()\n",
    "    return solutions\n",
    "\n",
    "def main():\n",
    "    solutions = solve(2)\n",
    "    for i, solution in enumerate(solutions):\n",
    "        print(solution)\n",
    "    solutions = solve(3)\n",
    "    for i, solution in enumerate(solutions):\n",
    "        print(solution)\n",
    "    solutions = solve(4)\n",
    "    for i, solution in enumerate(solutions):\n",
    "        print(solution)\n",
    "\n",
    "\n",
    "if __name__ == \"__main__\":\n",
    "    main()"
   ]
  },
  {
   "cell_type": "markdown",
   "metadata": {},
   "source": [
    "==========================================="
   ]
  },
  {
   "cell_type": "code",
   "execution_count": 10,
   "metadata": {},
   "outputs": [],
   "source": [
    "from constraint import Problem\n",
    "from constraint import AllDifferentConstraint\n",
    "\n",
    "variables = ['S', 'E', 'N', 'D', 'M', 'O', 'R', 'Y']\n",
    "\n",
    "cp = Problem()\n",
    "for var in variables:\n",
    "    cp.addVariable(var, range(0, 10))\n",
    "cp.addConstraint(AllDifferentConstraint())\n",
    "# set s and m nonzero\n",
    "cp.addConstraint(lambda s,m: s != 0 and m != 0, ('S', 'M'))\n",
    "cp.addConstraint(lambda s,e,n,d,m,o,r,y: s*1000+e*100+n*10+d+m*1000+o*100+r*10+e==m*10000+o*1000+n*100+e*10+y,('S', 'E', 'N', 'D', 'M', 'O', 'R', 'Y'))"
   ]
  },
  {
   "cell_type": "code",
   "execution_count": 11,
   "metadata": {},
   "outputs": [
    {
     "data": {
      "text/plain": [
       "(1, [{'M': 1, 'S': 9, 'D': 7, 'E': 5, 'N': 6, 'O': 0, 'R': 8, 'Y': 2}])"
      ]
     },
     "execution_count": 11,
     "metadata": {},
     "output_type": "execute_result"
    }
   ],
   "source": [
    "cp_sol = cp.getSolutions()\n",
    "(len(cp_sol), cp_sol)"
   ]
  },
  {
   "cell_type": "markdown",
   "metadata": {},
   "source": [
    "============================================"
   ]
  },
  {
   "cell_type": "code",
   "execution_count": null,
   "metadata": {},
   "outputs": [],
   "source": [
    "from constraint import *\n",
    "def addletters(left, right, result):\n",
    "    problem = Problem()\n",
    "    problem.addVariables(set(left + right + result), range(0, 10))\n",
    "    problem.addConstraint(AllDifferentConstraint())\n",
    "    problem.addConstraint(lambda lead: lead != 0, \n",
    "                          (left[0]))\n",
    "    problem.addConstraint(lambda lead: lead != 0, \n",
    "                          (right[0]))\n",
    "    problem.addConstraint(lambda lead: lead != 0, \n",
    "                          (result[0]))\n",
    "    problem.addConstraint(lambda lt, rt, res: (lt + rt) % 10 == res,\n",
    "                          (left[-1], right[-1], result[-1]))\n",
    "    for i in range(-1, -3, -1):\n",
    "        problem.addConstraint(lambda l1, l2, r1, r2, res: res == ((l2 + r2) + ((l1 + r1) / 10) % 10),\n",
    "                            (left[i], left[i-1], right[i], right[i-1], result[i]))\n",
    "        \n",
    "    return problem.getSolution()"
   ]
  },
  {
   "cell_type": "code",
   "execution_count": null,
   "metadata": {},
   "outputs": [],
   "source": [
    "print(addletters(\"send\", \"more\", \"money\"))"
   ]
  }
 ],
 "metadata": {
  "kernelspec": {
   "display_name": "Python 3",
   "language": "python",
   "name": "python3"
  },
  "language_info": {
   "codemirror_mode": {
    "name": "ipython",
    "version": 3
   },
   "file_extension": ".py",
   "mimetype": "text/x-python",
   "name": "python",
   "nbconvert_exporter": "python",
   "pygments_lexer": "ipython3",
   "version": "3.7.0"
  }
 },
 "nbformat": 4,
 "nbformat_minor": 2
}
