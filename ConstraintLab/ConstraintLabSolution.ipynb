{
 "cells": [
  {
   "cell_type": "markdown",
   "metadata": {},
   "source": [
    "**#1  Express the map-coloring problem from R&N Figure 6.1 as a CSP, and solve it.**\n",
    "\n",
    "Make the colors \"B\", \"G\", \"R\", \"Y\"\n",
    "\n",
    "How many solutions are there using \n",
    "* two colors\n",
    "* three colors\n",
    "* four colors"
   ]
  },
  {
   "cell_type": "code",
   "execution_count": null,
   "metadata": {},
   "outputs": [],
   "source": [
    "from constraint import *\n",
    "colors = [\"B\", \"G\", \"R\", \"Y\"]\n",
    "states = [\"WA\", \"NT\", \"SA\", \"Q\", \"NSW\", \"V\", \"T\"]\n",
    "adjacencies = [(\"WA\", \"NT\"), (\"WA\", \"SA\"), (\"NT\", \"SA\"), (\"NT\", \"Q\"), (\"Q\", \"SA\"),\\\n",
    "             (\"Q\", \"NSW\"), (\"SA\", \"NSW\"), (\"SA\", \"V\"), (\"NSW\", \"V\")]\n",
    "\n",
    "def solveFor(nc=3):\n",
    "    problem= Problem()\n",
    "    problem.addVariables(states, colors[0:nc])\n",
    "    return problem.getSolutions()"
   ]
  },
  {
   "cell_type": "code",
   "execution_count": null,
   "metadata": {},
   "outputs": [],
   "source": [
    "print(solveFor(3)[0])"
   ]
  },
  {
   "cell_type": "code",
   "execution_count": null,
   "metadata": {},
   "outputs": [],
   "source": [
    "print(len(solveFor(2)))\n",
    "print(len(solveFor(3)))\n",
    "print(len(solveFor(4)))"
   ]
  },
  {
   "cell_type": "markdown",
   "metadata": {},
   "source": [
    "----------------------------------------------\n",
    "\n",
    "**#2 Solve the classic cryptarithmetic problem**\n",
    "\n",
    "<pre>\n",
    "    S E N D\n",
    " +  M O R E\n",
    " -------------\n",
    "  M O N E Y\n",
    "</pre>\n",
    "\n",
    "where each letter is assigned a digit.  There can be no leading zeros, \n",
    "so S and M cannot be 0\n",
    "\n",
    "R&N Figure 6.2 should be helpful.\n",
    "\n",
    "Notice in Figure 6.2 there is an \"all different\" constraint on the values of the letters.\n",
    "\n",
    "Implement that constraint.\n",
    "\n",
    "What does that additional constraint do to the number of solutions?"
   ]
  },
  {
   "cell_type": "markdown",
   "metadata": {},
   "source": [
    "===============================\n",
    "To discuss in lab\n",
    "\n",
    "1. The general approach, column by column\n",
    "1. Demonstrate for two columns\n",
    "1. The general solution"
   ]
  },
  {
   "cell_type": "code",
   "execution_count": null,
   "metadata": {},
   "outputs": [],
   "source": [
    "from constraint import *\n",
    "problem = Problem()\n",
    "problem.addVariables([\"D\", \"E\", \"Y\"], [0,1,2,3,4,5,6,7,8,9])\n",
    "problem.addVariables([\"N\", \"R\"], [0,1,2,3,4,5,6,7,8,9])\n",
    "problem.addVariables([\"C0\"], [0])\n",
    "problem.addVariables([\"C1\"], [0,1])\n",
    "problem.addVariables([\"C2\"], [0,1])\n",
    "\n",
    "# Column #1\n",
    "problem.addConstraint(lambda x, y, z, c1: (x + y + c1)%10 == z, [\"D\", \"E\", \"Y\", \"C0\"])\n",
    "# carry out\n",
    "problem.addConstraint(lambda x, y, c1, c2: int((x + y + c1)/10) == c2, [\"D\", \"E\", \"C0\", \"C1\"])\n",
    "\n",
    "### Column #2\n",
    "# carry in and Y\n",
    "problem.addConstraint(lambda x, y, z, c1: (x + y + c1)%10 == z, [\"N\", \"R\", \"E\", \"C1\"])\n",
    "# carry out\n",
    "problem.addConstraint(lambda x, y, c1, c2: int((x + y + c1)/10) == c2, [\"N\", \"R\", \"C1\", \"C2\"])\n",
    "\n",
    "#######################\n",
    "solutions = problem.getSolutions()\n",
    "print(solutions)"
   ]
  },
  {
   "cell_type": "code",
   "execution_count": null,
   "metadata": {},
   "outputs": [],
   "source": [
    "########################################\n",
    "#  This is the more general-ish solution\n",
    "#\n",
    "#    S E N D\n",
    "# +  M O R E\n",
    "# -------------\n",
    "#  M O N E Y\n",
    "#   c3\n",
    "#     c2\n",
    "#       c1\n",
    "#         c0\n",
    "\n",
    "from constraint import *\n",
    "\n",
    "leadingLetters = [\"S\", \"M\"]\n",
    "letters = [\"N\", \"D\", \"O\", \"R\", \"E\", \"Y\"]\n",
    "carries = [\"C0\", \"C1\", \"C2\", \"C3\"]\n",
    "problem = Problem()\n",
    "\n",
    "problem.addVariables(leadingLetters, range(1,10))\n",
    "problem.addVariables(letters, range(0,10))\n",
    "problem.addVariables(carries, range(0,2))\n",
    "\n",
    "def addAdditionConstraint(a1, a2, sum, incarry, outcarry):\n",
    "        problem.addConstraint(lambda a1, a2, sum, incarry: sum == ((a1+a2+incarry) % 10), [a1, a2, sum, incarry])\n",
    "        problem.addConstraint(lambda a1, a2, incarry, outcarry: outcarry == int((a1+a2+incarry)/10),\\\n",
    "                              [a1, a2, incarry, outcarry])\n",
    "\n",
    "def addInequalities():\n",
    "    for l1 in leadingLetters + letters:\n",
    "        for l2 in leadingLetters + letters:\n",
    "            if (l1 != l2):\n",
    "                problem.addConstraint(lambda a1, a2: a1 != a2, [l1, l2])\n",
    "\n",
    "problem.addConstraint(lambda c: c == 0, [\"C0\"])    \n",
    "addAdditionConstraint(\"D\", \"E\", \"Y\", \"C0\", \"C1\")\n",
    "addAdditionConstraint(\"N\", \"R\", \"E\", \"C1\", \"C2\")\n",
    "addAdditionConstraint(\"E\", \"O\", \"N\", \"C2\", \"C3\")\n",
    "addAdditionConstraint(\"S\", \"M\", \"O\", \"C3\", \"M\")\n",
    "addInequalities()\n",
    "                                      \n",
    "print(len(problem.getSolutions()))\n",
    "print(problem.getSolutions())"
   ]
  },
  {
   "cell_type": "markdown",
   "metadata": {},
   "source": [
    "**#3 Solve the \"slightly bigger\" job shop example from the Moore tutorial, slide 44**\n",
    "\n",
    "Short summary\n",
    "\n",
    "1. There are four jobs 1..4;  each job has between two and three subtasks\n",
    "1. For each jobs, the subtasks must be done in sequence\n",
    "1. Each subtask requires a resource,  and two subtasks that use the same resource cannot be scheduled at the same time\n",
    "1. All subtasks take three time units to complete\n",
    "1. All subtasks are ready for execution at time 0, and must complete at or before time 15\n",
    "\n",
    "From the jobs/subtasks/resource uses on the diagram, assign a start time to each subtask that satisfies all the constraints above.\n",
    "\n",
    "\n"
   ]
  },
  {
   "cell_type": "code",
   "execution_count": null,
   "metadata": {},
   "outputs": [],
   "source": [
    "#Job 1\n",
    "#   (o11, r1) (o12, r2) (o13, r3)\n",
    "#Job 2\n",
    "#   (o21, r1)  (o22, r2)\n",
    "#Job 3\n",
    "#   (o31, r3) (o32, r1) (o33, r2)\n",
    "#Job 4\n",
    "#   (o41, r4) (o42, r2)\n",
    "\n",
    "example = [[(\"o11\", \"r1\"), (\"o12\", \"r2\"), (\"o13\", \"r3\")],\n",
    "           [(\"o21\", \"r1\"), (\"o22\", \"r2\")],\n",
    "           [(\"o31\", \"r3\"), (\"o32\", \"r1\"), (\"o33\", \"r2\")],\n",
    "           [(\"o41\", \"r4\"), (\"o42\", \"r2\")]]\n",
    "\n",
    "# Partition 0..15 into five buckets, 0..2, 3..5, 6..8, 9..11, 12..14\n",
    "# A task fits exactly into one of these, and no benefit to starting\n",
    "# a task other than at a boundary\n",
    "from constraint import *\n",
    "\n",
    "def addDisjointConstraint(problem, t1, t2):\n",
    "    problem.addConstraint(lambda t1, t2: t1 != t2, [t1, t2])\n",
    "\n",
    "def addOrderConstraint(problem, t1, t2):\n",
    "    problem.addConstraint(lambda t1, t2: t1<t2, [t1, t2])\n",
    "\n",
    "##############################################\n",
    "tasks = [\"o11\", \"o12\", \"o13\", \"o21\", \"o22\", \"o31\", \"o32\", \"o33\", \"o41\", \"o42\"]\n",
    "\n",
    "problem = Problem()\n",
    "problem.addVariables(tasks, range(0, 5))\n",
    "\n",
    "# R1 shared by o11, o21, o32\n",
    "\n",
    "addDisjointConstraint(problem, \"o11\", \"o21\")\n",
    "addDisjointConstraint(problem, \"o21\", \"o32\")\n",
    "addDisjointConstraint(problem, \"o11\", \"o32\")\n",
    "\n",
    "# R2 shared by o12, o22, o33, o42\n",
    "addDisjointConstraint(problem, \"o12\", \"o22\")\n",
    "addDisjointConstraint(problem, \"o12\", \"o33\")\n",
    "addDisjointConstraint(problem, \"o12\", \"o42\")\n",
    "addDisjointConstraint(problem, \"o22\", \"o33\")\n",
    "addDisjointConstraint(problem, \"o22\", \"o42\")\n",
    "addDisjointConstraint(problem, \"o33\", \"o42\")\n",
    "\n",
    "# R3 shared by o13, o31\n",
    "addDisjointConstraint(problem, \"o13\", \"o31\")\n",
    "\n",
    "addOrderConstraint(problem, \"o11\", \"o12\")\n",
    "addOrderConstraint(problem, \"o12\", \"o13\")\n",
    "addOrderConstraint(problem, \"o21\", \"o22\")\n",
    "addOrderConstraint(problem, \"o31\", \"o32\")\n",
    "addOrderConstraint(problem, \"o32\", \"o33\")\n",
    "addOrderConstraint(problem, \"o41\", \"o42\")\n",
    " \n",
    "print(problem.getSolutions()[0:4])"
   ]
  },
  {
   "cell_type": "code",
   "execution_count": null,
   "metadata": {},
   "outputs": [],
   "source": [
    "print(problem.getSolutions()[0])"
   ]
  },
  {
   "cell_type": "code",
   "execution_count": null,
   "metadata": {},
   "outputs": [],
   "source": [
    "def resource_for(jobs, task):\n",
    "    for tasks in jobs:\n",
    "        for t in tasks:\n",
    "            if (t[0] == task):\n",
    "                return t[1]\n",
    "    return None\n",
    "\n",
    "###\n",
    "\n",
    "print(\"Task    Start Time    End Time   Uses\")\n",
    "print()\n",
    "for task, bucket in sorted(problem.getSolutions()[0].items()):\n",
    "    print(\"{:2}         {:2d}          {:2d}        {:2}\".format(task, bucket*3, (bucket*3) + 2, resource_for(example, task)))"
   ]
  },
  {
   "cell_type": "code",
   "execution_count": null,
   "metadata": {},
   "outputs": [],
   "source": []
  }
 ],
 "metadata": {
  "kernelspec": {
   "display_name": "Python 3",
   "language": "python",
   "name": "python3"
  },
  "language_info": {
   "codemirror_mode": {
    "name": "ipython",
    "version": 3
   },
   "file_extension": ".py",
   "mimetype": "text/x-python",
   "name": "python",
   "nbconvert_exporter": "python",
   "pygments_lexer": "ipython3",
   "version": "3.7.0"
  }
 },
 "nbformat": 4,
 "nbformat_minor": 2
}
