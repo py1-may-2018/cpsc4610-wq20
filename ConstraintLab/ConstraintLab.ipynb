{
 "cells": [
  {
   "cell_type": "markdown",
   "metadata": {},
   "source": [
    "## CSP Lab!\n",
    "\n",
    "You have now seen the rationale, theory, and algorithms behind problem solving by constraint satisfaction.   Now it is time to put it into practice.\n",
    "\n",
    "The main goal behind this lab is to quickly get you thinking about how to apply the CSP paradigm.  We will achieve the goal by\n",
    "\n",
    "* Making you solve a couple of problems\n",
    "* Reviewing a few solutions in class\n",
    "\n",
    "To proceed\n",
    "\n",
    "1. Form groups.   Go to Canvas and assign yourself to a group in the Group Set named ConstraintLab.  You can work alone if you want, and groups may have at most three members.\n",
    "1. We will be using the Python constraints library, so install it (URLs below)\n",
    "1. Read the documentation to get see some examples of the library in action\n",
    "1. Use the library to solve the three problems below\n",
    "\n",
    "You will submit your work (just the notebook, no compress/zip) to the Canvas assignment Constraint Lab\n",
    "https://seattleu.instructure.com/courses/1589214/assignments/6772811\n",
    "\n",
    "The due date and last possible submit time is 3:45 (i.e. right after class).  No late days can be spent on this exercise.\n",
    "\n",
    "The assignment is worth a total of 2 points;  you will receive 2 points if you submit a notebook that shows a good-faith effort to solve at least one of the problems.\n",
    "\n",
    "At the beginning of the following class we will review a few solutions so you can see different approaches to solve the same problem.   The idea is you will need to use the library and solve some constraint problems in the next assignment, and this is a warmup.\n",
    "\n",
    "Python Constraint library:\n",
    "\n",
    "* https://anaconda.org/conda-forge/python-constraint\n",
    "* https://github.com/python-constraint/python-constraint"
   ]
  },
  {
   "cell_type": "markdown",
   "metadata": {},
   "source": [
    "**#1  Express the map-coloring problem from R&N Figure 6.1 as a CSP, and solve it.**\n",
    "\n",
    "Make the possible colors \"B\", \"G\", \"R\", \"Y\"\n",
    "\n",
    "How many solutions are there using \n",
    "* two colors\n",
    "* three colors\n",
    "* four colors"
   ]
  },
  {
   "cell_type": "code",
   "execution_count": null,
   "metadata": {},
   "outputs": [],
   "source": [
    "# Your solution here"
   ]
  },
  {
   "cell_type": "code",
   "execution_count": null,
   "metadata": {},
   "outputs": [],
   "source": [
    "# Your demo/tests/analysis here"
   ]
  },
  {
   "cell_type": "markdown",
   "metadata": {},
   "source": [
    "---------------------------------------"
   ]
  },
  {
   "cell_type": "markdown",
   "metadata": {},
   "source": [
    "**#2 Solve the classic cryptarithmetic problem**\n",
    "\n",
    "<pre>\n",
    "    S E N D\n",
    " +  M O R E\n",
    " -------------\n",
    "  M O N E Y\n",
    "</pre>\n",
    "\n",
    "where each letter is assigned a digit.  There can be no leading zeros, \n",
    "so S and M cannot be 0\n",
    "\n",
    "R&N Figure 6.2 should be helpful.\n",
    "\n",
    "Notice in Figure 6.2 there is an \"all different\" constraint on the values of the letters.\n",
    "\n",
    "Implement that \"all different\" constraint as it appears in the Figure.  (Hint:  don't assume Constraint.AllDifferentConstraint will do what you want.)\n",
    "\n",
    "What does that additional constraint do to the number of solutions?"
   ]
  },
  {
   "cell_type": "code",
   "execution_count": null,
   "metadata": {},
   "outputs": [],
   "source": [
    "# Your solution here"
   ]
  },
  {
   "cell_type": "code",
   "execution_count": null,
   "metadata": {},
   "outputs": [],
   "source": [
    "# Your demo/tests here"
   ]
  },
  {
   "cell_type": "markdown",
   "metadata": {},
   "source": [
    "----------------------------------------------"
   ]
  },
  {
   "cell_type": "markdown",
   "metadata": {},
   "source": [
    "**#3 Solve the \"slightly bigger\" job shop example from the Moore tutorial, slide 44**\n",
    "\n",
    "Short summary\n",
    "\n",
    "1. There are four jobs 1..4;  each job has between two and three subtasks\n",
    "1. For each jobs, the subtasks must be done in sequence\n",
    "1. Each subtask requires a resource,  and two subtasks that use the same resource cannot be scheduled at the same time\n",
    "1. All subtasks take three time units to complete\n",
    "1. All subtasks are ready for execution at time 0, and must complete at or before time 15\n",
    "\n",
    "From the jobs/subtasks/resource uses on the diagram, assign a start time to each subtask that satisfies all the constraints above.\n",
    "\n",
    "\n"
   ]
  },
  {
   "cell_type": "markdown",
   "metadata": {},
   "source": [
    "----------------------------------------------"
   ]
  },
  {
   "cell_type": "code",
   "execution_count": null,
   "metadata": {},
   "outputs": [],
   "source": [
    "# Your solution here"
   ]
  },
  {
   "cell_type": "code",
   "execution_count": null,
   "metadata": {},
   "outputs": [],
   "source": [
    "# Your tests/demo here"
   ]
  }
 ],
 "metadata": {
  "kernelspec": {
   "display_name": "Python 3",
   "language": "python",
   "name": "python3"
  },
  "language_info": {
   "codemirror_mode": {
    "name": "ipython",
    "version": 3
   },
   "file_extension": ".py",
   "mimetype": "text/x-python",
   "name": "python",
   "nbconvert_exporter": "python",
   "pygments_lexer": "ipython3",
   "version": "3.7.0"
  }
 },
 "nbformat": 4,
 "nbformat_minor": 2
}
