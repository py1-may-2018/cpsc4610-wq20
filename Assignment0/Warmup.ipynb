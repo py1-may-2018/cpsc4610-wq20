{
 "cells": [
  {
   "cell_type": "markdown",
   "metadata": {},
   "source": [
    "### Welcome to Your First Notebook! ####\n",
    "\n",
    "This short exercise will have a few Python programming questions that will cover\n",
    "  * Working with strings and lists\n",
    "  * Working with functions and numeric operations\n",
    "  * Writing and using a class and its instances\n",
    "  * Reading a file into a Data Frame and doing a statistical calculation"
   ]
  },
  {
   "cell_type": "markdown",
   "metadata": {},
   "source": [
    "\n",
    "Each of these exercises will have a Markdown cell describing the problem.  You will insert a Code cell under the question and put your code there.  \n",
    "\n",
    "Notice that each of the questions asks you to write a function or class, and these should not generate any output.\n",
    "Although as part of the development process you will write additional code to test your functions, you should delete that testing code and clear all output prior to submitting your notebook.   \n",
    "\n",
    "I will test your code by adding cells with test code at the end of your notebook.  I will then execute 'Kernel -> Restart & Run All' on your notebook, and I should see only the output of my test code."
   ]
  },
  {
   "cell_type": "markdown",
   "metadata": {},
   "source": [
    "------------------------------------"
   ]
  },
  {
   "cell_type": "markdown",
   "metadata": {},
   "source": [
    "\\# 1  **String splitting.**  Write a function **wordCount(aString)** that takes a string as input and returns a dictionary whose keys are the lower-cased words in the string and the value for each key is the count for that word.  Assume that the input string contains only letters and whitespace characters and words are delimited by one or more whitespace characters.  For example:\n",
    "\n",
    "```\n",
    "wordCount('this IS A String and This is A word')\n",
    "=>\n",
    "{'this': 2, 'is': 2, 'a': 2, 'string': 1, 'and': 1, 'word': 1}\n",
    "```"
   ]
  },
  {
   "cell_type": "code",
   "execution_count": null,
   "metadata": {},
   "outputs": [],
   "source": [
    "### Your code here ###"
   ]
  },
  {
   "cell_type": "markdown",
   "metadata": {},
   "source": [
    "\\# 2 **Primes.**  Write a function **primes(low, high)** that returns a list of the prime numbers between low and high, inclusive.  If high < low, the function should return the empty list."
   ]
  },
  {
   "cell_type": "code",
   "execution_count": 129,
   "metadata": {},
   "outputs": [],
   "source": [
    "### Your code here ###"
   ]
  },
  {
   "cell_type": "markdown",
   "metadata": {},
   "source": [
    "\\# 3 **Temperature Conversion.**  Write a class Temperature whose constructor accepts two parameters, a real number and a string that is either \"F\" (Farenheit) or \"C\" (Celsius).   It has the following methods   \n",
    "  1.  **degrees** and **units** which are getters for the two instance variables\n",
    "  1.  **asFarenheit** and **asCelsius** that returns the instance's degrees in the specified units\n",
    "  1.  Overload the operator **__add__(aTemperature)** which affects how expressions like **t1 + t2** behave when **t1** and **t2** are both **Temperatures**.  This operator should return a new instance of **Temperature** adding the receiver and the argument.  The units of the returned **Temperature** should be the same as that of the receiver. \n",
    "  1. Overload the operator **__str__** which is the equivalent of Java **toString** and affects the way instances display themselves. Instances of Temperature should print like this:  **{32 degrees F}**\n",
    "  \n",
    "Your code should detect the following errors and raise an exception in both cases\n",
    "  1. The **units** argument to the constructor is not \"C\" or \"F\" (case sensitive)\n",
    "  2. An expession is of the form **(x + y)** where **x** is an instance of **Temperature** but *y* is not.  That is, it is illegal to add a **Temperature** to a non-**Temperature**\n",
    "  "
   ]
  },
  {
   "cell_type": "markdown",
   "metadata": {},
   "source": [
    "Here is some example input and output:\n",
    "<pre>\n",
    "t1 = Temperature(32, \"F\")\n",
    "print(t1)\n",
    "print(t1.degrees())\n",
    "print(t1.units())\n",
    "print(t1.asFarenheit())\n",
    "print(t1.asCelsius())\n",
    "t2 = Temperature(100, \"C\")\n",
    "print(t2)\n",
    "print(t2.degrees())\n",
    "print(t2.units())\n",
    "print(t2.asFarenheit())\n",
    "print(t2.asCelsius())\n",
    "t3 = t2 + Temperature(212, \"F\")\n",
    "print(t3)\n",
    "</pre>\n",
    "<pre>\n",
    "{32 degrees F}\n",
    "32\n",
    "F\n",
    "32\n",
    "0.0\n",
    "{100 degrees C}\n",
    "100\n",
    "C\n",
    "212.0\n",
    "100\n",
    "{200.0 degrees C}\n",
    "</pre>\n"
   ]
  },
  {
   "cell_type": "code",
   "execution_count": null,
   "metadata": {},
   "outputs": [],
   "source": [
    "### Your code here ###"
   ]
  },
  {
   "cell_type": "markdown",
   "metadata": {},
   "source": [
    "\\# 4 Mean-square error (MSE) is defined as  $$ \\frac{1}{n} \\sum_{1}^n(o_i - p_i)^2 $$ where $n$ is the number of rows in the data set, $o_i$ is the $i^{th}$ observed value, and $p_i$ is the $i^{th}$ predicted value. \n",
    "\n",
    "Write a function ```mse(filename)``` where ```filename``` is the name of a file that has $n+1$ rows and two columns.  Each row has two fields, separated by a comma character.  The first row has the column labels, which are *observed* and *predicted*. The next $n$ rows have an observed and predicted value (both numbers).\n",
    "\n",
    "Your function *must* read the named file into a pandas data frame and calculate mean-squared error from that data frame.  Note:  data frames are designed to do vector operations on columns concisely and efficiently.  It is never a good idea to iterate over the rows of a data frame. \n",
    "\n",
    "```\n",
    "mse('predicted.txt')\n",
    "0.08328833909297638\n",
    "```"
   ]
  },
  {
   "cell_type": "code",
   "execution_count": 7,
   "metadata": {},
   "outputs": [],
   "source": [
    "### Your code here ###"
   ]
  }
 ],
 "metadata": {
  "kernelspec": {
   "display_name": "Python 3",
   "language": "python",
   "name": "python3"
  },
  "language_info": {
   "codemirror_mode": {
    "name": "ipython",
    "version": 3
   },
   "file_extension": ".py",
   "mimetype": "text/x-python",
   "name": "python",
   "nbconvert_exporter": "python",
   "pygments_lexer": "ipython3",
   "version": "3.7.0"
  }
 },
 "nbformat": 4,
 "nbformat_minor": 2
}
